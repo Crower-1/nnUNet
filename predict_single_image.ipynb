{
 "cells": [
  {
   "cell_type": "code",
   "execution_count": 1,
   "metadata": {},
   "outputs": [],
   "source": [
    "from nnunetv2.paths import nnUNet_results, nnUNet_raw\n",
    "import torch\n",
    "from batchgenerators.utilities.file_and_folder_operations import join\n",
    "from nnunetv2.inference.predict_from_raw_data import nnUNetPredictor\n",
    "from nnunetv2.imageio.mrc_reader_writer import MRCIO\n",
    "import numpy as np\n",
    "import mrcfile"
   ]
  },
  {
   "cell_type": "code",
   "execution_count": 3,
   "metadata": {},
   "outputs": [],
   "source": [
    "def save_tomo(data, path, voxel_size=17.14):\n",
    "    \"\"\"\n",
    "    Save a 3D numpy array as an MRC file.\n",
    "\n",
    "    Parameters:\n",
    "    - data: ndarray\n",
    "        The 3D data to save.\n",
    "    - path: str\n",
    "        Path where the MRC file will be saved.\n",
    "    - voxel_size: float\n",
    "        The voxel size of the data.\n",
    "    \"\"\"\n",
    "    with mrcfile.new(path, overwrite=True) as mrc:\n",
    "        data = data.astype(np.uint8)\n",
    "        mrc.set_data(data)\n",
    "        mrc.voxel_size = voxel_size\n",
    "        \n",
    "def save_tomo_float32(data, path, voxel_size=17.14):\n",
    "    \"\"\"\n",
    "    Save a 3D numpy array as an MRC file.\n",
    "\n",
    "    Parameters:\n",
    "    - data: ndarray\n",
    "        The 3D data to save.\n",
    "    - path: str\n",
    "        Path where the MRC file will be saved.\n",
    "    - voxel_size: float\n",
    "        The voxel size of the data.\n",
    "    \"\"\"\n",
    "    with mrcfile.new(path, overwrite=True) as mrc:\n",
    "        data = data.astype(np.float32)\n",
    "        mrc.set_data(data)\n",
    "        mrc.voxel_size = voxel_size"
   ]
  },
  {
   "cell_type": "code",
   "execution_count": 4,
   "metadata": {},
   "outputs": [],
   "source": [
    "# instantiate the nnUNetPredictor\n",
    "predictor = nnUNetPredictor(\n",
    "    tile_step_size=0.33,\n",
    "    use_gaussian=True,\n",
    "    use_mirroring=True,\n",
    "    perform_everything_on_device=False,\n",
    "    device=torch.device('cuda', 0),\n",
    "    verbose=False,\n",
    "    verbose_preprocessing=False,\n",
    "    allow_tqdm=True\n",
    ")\n",
    "# # initializes the network architecture, loads the checkpoint\n",
    "# predictor.initialize_from_trained_model_folder(\n",
    "#     join(nnUNet_results, 'Dataset003_3tomo/nnUNetTrainer__nnUNetPlans__3d_fullres'),\n",
    "#     use_folds=(1,),\n",
    "#     checkpoint_name='checkpoint_best.pth',\n",
    "# )\n",
    "\n",
    "# initializes the network architecture, loads the checkpoint\n",
    "# predictor.initialize_from_trained_model_folder(\n",
    "#     # join(nnUNet_results, 'Synapse256_nnUNet/nnUNetTrainer__nnUNetPlans__3d_fullres'),\n",
    "#     join(nnUNet_results, 'Dataset009_10tomo_10classes/nnUNetTrainer__nnUNetPlans__3d_fullres'),\n",
    "#     use_folds=(0,),\n",
    "#     checkpoint_name='checkpoint_best.pth',\n",
    "# )\n",
    "\n",
    "# initializes the network architecture, loads the checkpoint\n",
    "predictor.initialize_from_trained_files(\n",
    "    dataset_json_path = '/home/liushuo/Documents/data/nnUNet/nnUNet_results/Dataset009_10tomo_10classes/nnUNetTrainer__nnUNetPlans__3d_fullres/dataset.json',\n",
    "    plans_json_path = '/home/liushuo/Documents/data/nnUNet/nnUNet_results/Dataset009_10tomo_10classes/nnUNetTrainer__nnUNetPlans__3d_fullres/plans.json',\n",
    "    checkpoint_paths='/home/liushuo/Documents/data/nnUNet/nnUNet_results/Dataset009_10tomo_10classes/nnUNetTrainer__nnUNetPlans__3d_fullres/fold_0/checkpoint_best.pth',\n",
    ")"
   ]
  },
  {
   "cell_type": "code",
   "execution_count": 4,
   "metadata": {},
   "outputs": [
    {
     "name": "stderr",
     "output_type": "stream",
     "text": [
      "100%|██████████| 392/392 [01:59<00:00,  3.28it/s]\n"
     ]
    }
   ],
   "source": [
    "# img, props = MRCIO().read_images([join(nnUNet_raw, 'Synapse_128/imagesTs/pp1033.mrc')])\n",
    "img, props = MRCIO().read_images(['/media/liushuo/data1/data/CET-MAP/actin/emd_11870/emd_11870.map'])\n",
    "# props = {\n",
    "#     'spacing': (17.14, 17.14, 17.14),\n",
    "# }\n",
    "\n",
    "# ret = predictor.predict_single_npy_array(img, props, None, None, False)\n",
    "ret1, ret2 = predictor.predict_single_npy_array(img, props, None, None, True)"
   ]
  },
  {
   "cell_type": "code",
   "execution_count": 5,
   "metadata": {},
   "outputs": [],
   "source": [
    "save_tomo(ret1, f'/media/liushuo/data1/data/CET-MAP/actin/emd_11870/result.rec', voxel_size=props['spacing'])\n",
    "# save_tomo_float32(ret2, f'/media/liushuo/data1/data/synapse_seg/pp387/ret2.mrc')"
   ]
  }
 ],
 "metadata": {
  "kernelspec": {
   "display_name": "synapseseg",
   "language": "python",
   "name": "python3"
  },
  "language_info": {
   "codemirror_mode": {
    "name": "ipython",
    "version": 3
   },
   "file_extension": ".py",
   "mimetype": "text/x-python",
   "name": "python",
   "nbconvert_exporter": "python",
   "pygments_lexer": "ipython3",
   "version": "3.10.16"
  }
 },
 "nbformat": 4,
 "nbformat_minor": 2
}
